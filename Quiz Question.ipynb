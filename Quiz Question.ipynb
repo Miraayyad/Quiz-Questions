{
 "cells": [
  {
   "cell_type": "code",
   "execution_count": 12,
   "metadata": {},
   "outputs": [],
   "source": [
    "Questions =[\n",
    " { \n",
    "    'prompt': 'What is the capital city of France?',\n",
    "    'options': ['A. Berlin', 'B. Madrid', 'C. Paris' , 'D. Rome'],\n",
    "    'answer' :'C'\n",
    " },\n",
    " \n",
    " {\n",
    "    'prompt': 'Which planet is known as the Red Planet',\n",
    "    'options': ['A. Earth', 'B. mars', 'C.  Jupiter' , 'D. Venus'],\n",
    "    'answer' :'B'\n",
    " },\n",
    " {\n",
    "    'prompt': 'What is the chemical symbol for gold?',\n",
    "    'options': ['A. Ag', 'B. Au', 'C.  Fe' , 'D. Hg'],\n",
    "    'answer' :'B'\n",
    " }\n",
    " \n",
    "]"
   ]
  },
  {
   "cell_type": "code",
   "execution_count": 20,
   "metadata": {},
   "outputs": [
    {
     "name": "stdout",
     "output_type": "stream",
     "text": [
      "What is the capital city of France?\n",
      "A. Berlin\n",
      "B. Madrid\n",
      "C. Paris\n",
      "D. Rome\n",
      "wrong answer!! the correct answer was C \n",
      "\n",
      "Which planet is known as the Red Planet\n",
      "A. Earth\n",
      "B. mars\n",
      "C.  Jupiter\n",
      "D. Venus\n",
      "\u001b[32mcorrect, horray!! \n",
      "\u001b[0m\n",
      "What is the chemical symbol for gold?\n",
      "A. Ag\n",
      "B. Au\n",
      "C.  Fe\n",
      "D. Hg\n",
      "\u001b[32mcorrect, horray!! \n",
      "\u001b[0m\n",
      "\u001b[34myou have got 2, out a 3\u001b[0m\n"
     ]
    }
   ],
   "source": [
    "from termcolor import colored\n",
    "def run_quiz(Questions):\n",
    "  score=0\n",
    "  for Question in Questions:\n",
    "    print(Question['prompt'])\n",
    "    for option in Question['options']:\n",
    "       print(option)\n",
    "    answer=input(colored('enter your answer(A, B, C, D): ', 'white')).upper()\n",
    "    if answer ==Question['answer']:\n",
    "        print (colored('correct, horray!! \\n','green'))\n",
    "        score +=1\n",
    "    else:\n",
    "        print('wrong answer!! the correct answer was',Question['answer'],'\\n')\n",
    "  print(colored(f'you have got {score}, out a {len(Questions)}', 'blue'))      \n",
    "run_quiz(Questions)"
   ]
  }
 ],
 "metadata": {
  "kernelspec": {
   "display_name": "Python 3",
   "language": "python",
   "name": "python3"
  },
  "language_info": {
   "codemirror_mode": {
    "name": "ipython",
    "version": 3
   },
   "file_extension": ".py",
   "mimetype": "text/x-python",
   "name": "python",
   "nbconvert_exporter": "python",
   "pygments_lexer": "ipython3",
   "version": "3.11.9"
  }
 },
 "nbformat": 4,
 "nbformat_minor": 2
}
